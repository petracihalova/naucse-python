{
 "cells": [
  {
   "cell_type": "markdown",
   "metadata": {},
   "source": [
    "# Zpětná vazba k domácím projektům\n",
    "\n"
   ]
  },
  {
   "cell_type": "markdown",
   "metadata": {},
   "source": [
    "## Nakresli 5, 6, 7, 8 úhelník"
   ]
  },
  {
   "cell_type": "code",
   "execution_count": null,
   "metadata": {},
   "outputs": [],
   "source": [
    "from turtle import forward, left, speed, penup, pendown, exitonclick\n",
    "n=5\n",
    "a= 200/n\n",
    "for i in range(5):\n",
    "    forward(a)\n",
    "    left(180-(180 * (1-2/n)))\n",
    "\n",
    "penup()\n",
    "forward(a*2)\n",
    "pendown()\n",
    "\n",
    "n=6\n",
    "a= 200/n\n",
    "for i in range(6):\n",
    "    forward(a)\n",
    "    left(180-(180 * (1-2/n)))\n",
    "    \n",
    "penup()\n",
    "forward(a*3)\n",
    "pendown()\n",
    "\n",
    "n=7\n",
    "a= 200/n\n",
    "for i in range(7):\n",
    "    forward(a)\n",
    "    left(180-(180 * (1-2/n)))\n",
    "\n",
    "penup()\n",
    "forward(a*3)\n",
    "pendown()\n",
    "\n",
    "n=8\n",
    "a= 200/n\n",
    "for i in range(8):\n",
    "    forward(a)\n",
    "    left(180-(180 * (1-2/n)))\n",
    "\n",
    "exitonclick()"
   ]
  },
  {
   "cell_type": "markdown",
   "metadata": {},
   "source": [
    "## Jiné řešení"
   ]
  },
  {
   "cell_type": "code",
   "execution_count": null,
   "metadata": {},
   "outputs": [],
   "source": [
    "from turtle import exitonclick, forward, left, penup, pendown\n",
    "\n",
    "for n in range(5,9):\n",
    "    for i in range(n):\n",
    "        forward(200/n)\n",
    "        left(360/n)\n",
    "    penup()\n",
    "    forward(90)\n",
    "    pendown()\n",
    "\n",
    "exitonclick()"
   ]
  },
  {
   "cell_type": "code",
   "execution_count": null,
   "metadata": {},
   "outputs": [],
   "source": [
    "from turtle import forward, left, pendown, penup, exitonclick\n",
    "\n",
    "for n in 5, 6, 7, 8:\n",
    "    for i in range(n):\n",
    "        forward(200/n)\n",
    "        left(360/n)\n",
    "\n",
    "    forward(200/n)\n",
    "    penup()\n",
    "    forward(40)\n",
    "    pendown()\n",
    "\n",
    "exitonclick()"
   ]
  },
  {
   "cell_type": "markdown",
   "metadata": {},
   "source": [
    "## range s 1, 2, 3 argumenty"
   ]
  },
  {
   "cell_type": "code",
   "execution_count": 10,
   "metadata": {},
   "outputs": [
    {
     "name": "stdout",
     "output_type": "stream",
     "text": [
      "0\n",
      "1\n",
      "2\n",
      "3\n",
      "4\n"
     ]
    }
   ],
   "source": [
    "for i in range(5):\n",
    "    print(i)"
   ]
  },
  {
   "cell_type": "code",
   "execution_count": 11,
   "metadata": {},
   "outputs": [
    {
     "name": "stdout",
     "output_type": "stream",
     "text": [
      "5\n",
      "6\n",
      "7\n",
      "8\n",
      "9\n"
     ]
    }
   ],
   "source": [
    "for i in range(5, 10):\n",
    "    print(i)"
   ]
  },
  {
   "cell_type": "code",
   "execution_count": 12,
   "metadata": {},
   "outputs": [
    {
     "name": "stdout",
     "output_type": "stream",
     "text": [
      "5\n",
      "7\n",
      "9\n"
     ]
    }
   ],
   "source": [
    "for i in range(5, 10, 2):\n",
    "    print(i)"
   ]
  },
  {
   "cell_type": "code",
   "execution_count": 13,
   "metadata": {},
   "outputs": [
    {
     "name": "stdout",
     "output_type": "stream",
     "text": [
      "4\n",
      "3\n",
      "2\n",
      "1\n",
      "0\n"
     ]
    }
   ],
   "source": [
    "for i in range(4, -1, -1):\n",
    "    print(i)"
   ]
  },
  {
   "cell_type": "markdown",
   "metadata": {},
   "source": [
    "## Nejmenší číslo"
   ]
  },
  {
   "cell_type": "code",
   "execution_count": null,
   "metadata": {},
   "outputs": [],
   "source": [
    "zatim_nejmensi = float(input(\"Zadej číslo: \"))\n",
    "\n",
    "for cislo in range(4):\n",
    "    nove_cislo = float(input(\"Zadej číslo: \"))\n",
    "    if nove_cislo < zatim_nejmensi:\n",
    "        zatim_nejmensi = nove_cislo\n",
    "        \n",
    "print(\"Nejmenší číslo je: \", zatim_nejmensi)"
   ]
  },
  {
   "cell_type": "code",
   "execution_count": null,
   "metadata": {},
   "outputs": [],
   "source": [
    "print(\"Zadej pět čísel a já ti to nejmenší vypíšu.\")\n",
    "zatim_nejmensi = None\n",
    "\n",
    "for cislo in range(5):\n",
    "    cislo = float(input(\"Zadej libovolné číslo:\"))\n",
    "\n",
    "    if zatim_nejmensi == None or cislo < zatim_nejmensi:\n",
    "        zatim_nejmensi = cislo\n",
    "    \n",
    "print(\"Nejmenší zadané číslo je:\", zatim_nejmensi)"
   ]
  },
  {
   "cell_type": "code",
   "execution_count": null,
   "metadata": {},
   "outputs": [],
   "source": [
    "print(\"Zadej pět čísel a já ti to nejmenší vypíšu.\")\n",
    "\n",
    "for i in range(5):\n",
    "    cislo = float(input(\"Zadej libovolné číslo:\"))\n",
    "    \n",
    "    if i == 0 or cislo < zatim_nejmensi:\n",
    "        zatim_nejmensi = cislo\n",
    "    \n",
    "print(\"Nejmenší zadané číslo je:\", zatim_nejmensi)"
   ]
  },
  {
   "cell_type": "markdown",
   "metadata": {},
   "source": [
    "## Na závěr"
   ]
  },
  {
   "cell_type": "markdown",
   "metadata": {},
   "source": [
    "* Pochvala za úkoly!\n",
    "* Pochvala za ptaní!"
   ]
  }
 ],
 "metadata": {
  "kernelspec": {
   "display_name": "Python 3.10.8 64-bit",
   "language": "python",
   "name": "python3"
  },
  "language_info": {
   "codemirror_mode": {
    "name": "ipython",
    "version": 3
   },
   "file_extension": ".py",
   "mimetype": "text/x-python",
   "name": "python",
   "nbconvert_exporter": "python",
   "pygments_lexer": "ipython3",
   "version": "3.10.8"
  },
  "vscode": {
   "interpreter": {
    "hash": "aee8b7b246df8f9039afb4144a1f6fd8d2ca17a180786b69acc140d282b71a49"
   }
  }
 },
 "nbformat": 4,
 "nbformat_minor": 2
}
